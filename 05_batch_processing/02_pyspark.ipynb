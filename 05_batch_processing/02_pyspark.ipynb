{
 "cells": [
  {
   "cell_type": "code",
   "execution_count": 1,
   "id": "82e256b3-646b-46a3-9f0e-4ce702b0aec0",
   "metadata": {},
   "outputs": [],
   "source": [
    "import pyspark\n",
    "from pyspark.sql import SparkSession"
   ]
  },
  {
   "cell_type": "code",
   "execution_count": 4,
   "id": "2e400063-3daf-4ef4-94c3-30563dd1e4e3",
   "metadata": {},
   "outputs": [
    {
     "name": "stderr",
     "output_type": "stream",
     "text": [
      "Setting default log level to \"WARN\".\n",
      "To adjust logging level use sc.setLogLevel(newLevel). For SparkR, use setLogLevel(newLevel).\n"
     ]
    },
    {
     "name": "stdout",
     "output_type": "stream",
     "text": [
      "24/03/04 22:45:26 WARN NativeCodeLoader: Unable to load native-hadoop library for your platform... using builtin-java classes where applicable\n"
     ]
    }
   ],
   "source": [
    "spark = SparkSession.builder \\\n",
    "    .master(\"local[*]\") \\\n",
    "    .appName('test') \\\n",
    "    .getOrCreate()"
   ]
  },
  {
   "cell_type": "code",
   "execution_count": 5,
   "id": "79c07312-0227-43da-b157-4f873bcfd599",
   "metadata": {},
   "outputs": [
    {
     "name": "stdout",
     "output_type": "stream",
     "text": [
      "1006794 fhvhv_tripdata_2021-01.parquet\n"
     ]
    }
   ],
   "source": [
    "!wc -l fhvhv_tripdata_2021-01.parquet\n"
   ]
  },
  {
   "cell_type": "code",
   "execution_count": 8,
   "id": "0176aabc-29f0-43c6-bd84-fda3ed0c445d",
   "metadata": {},
   "outputs": [],
   "source": [
    "df = spark.read \\\n",
    "    .option(\"header\", \"true\") \\\n",
    "    .parquet('fhvhv_tripdata_2021-01.parquet')"
   ]
  },
  {
   "cell_type": "code",
   "execution_count": 10,
   "id": "86e91d11-1633-4441-9c57-28c00ad50258",
   "metadata": {},
   "outputs": [
    {
     "data": {
      "text/plain": [
       "StructType([StructField('hvfhs_license_num', StringType(), True), StructField('dispatching_base_num', StringType(), True), StructField('originating_base_num', StringType(), True), StructField('request_datetime', TimestampType(), True), StructField('on_scene_datetime', TimestampType(), True), StructField('pickup_datetime', TimestampType(), True), StructField('dropoff_datetime', TimestampType(), True), StructField('PULocationID', LongType(), True), StructField('DOLocationID', LongType(), True), StructField('trip_miles', DoubleType(), True), StructField('trip_time', LongType(), True), StructField('base_passenger_fare', DoubleType(), True), StructField('tolls', DoubleType(), True), StructField('bcf', DoubleType(), True), StructField('sales_tax', DoubleType(), True), StructField('congestion_surcharge', DoubleType(), True), StructField('airport_fee', DoubleType(), True), StructField('tips', DoubleType(), True), StructField('driver_pay', DoubleType(), True), StructField('shared_request_flag', StringType(), True), StructField('shared_match_flag', StringType(), True), StructField('access_a_ride_flag', StringType(), True), StructField('wav_request_flag', StringType(), True), StructField('wav_match_flag', StringType(), True)])"
      ]
     },
     "execution_count": 10,
     "metadata": {},
     "output_type": "execute_result"
    }
   ],
   "source": [
    "df.schema"
   ]
  },
  {
   "cell_type": "code",
   "execution_count": 22,
   "id": "2668d9bb-6849-4eff-9c38-be2094274bf5",
   "metadata": {},
   "outputs": [],
   "source": [
    "df = df.repartition(24)"
   ]
  },
  {
   "cell_type": "code",
   "execution_count": 2,
   "id": "7b967f04-a4d0-4212-b32b-7037b1bccc9a",
   "metadata": {},
   "outputs": [
    {
     "ename": "NameError",
     "evalue": "name 'df' is not defined",
     "output_type": "error",
     "traceback": [
      "\u001b[0;31m---------------------------------------------------------------------------\u001b[0m",
      "\u001b[0;31mNameError\u001b[0m                                 Traceback (most recent call last)",
      "Cell \u001b[0;32mIn[2], line 1\u001b[0m\n\u001b[0;32m----> 1\u001b[0m \u001b[43mdf\u001b[49m\u001b[38;5;241m.\u001b[39mwrite\u001b[38;5;241m.\u001b[39mparquet(\u001b[38;5;124m'\u001b[39m\u001b[38;5;124mfhvhv/2021/01\u001b[39m\u001b[38;5;124m'\u001b[39m)\n",
      "\u001b[0;31mNameError\u001b[0m: name 'df' is not defined"
     ]
    }
   ],
   "source": [
    "df.write.parquet('fhvhv/2021/01')"
   ]
  },
  {
   "cell_type": "code",
   "execution_count": 15,
   "id": "8fc4d371-4c4c-4f42-a041-ceeea5e87d82",
   "metadata": {},
   "outputs": [],
   "source": [
    "df = spark.read.parquet('fhvhv/2021/01/')"
   ]
  },
  {
   "cell_type": "code",
   "execution_count": 16,
   "id": "4c9c25c6-13d0-4e85-9139-c9c4304f5b5c",
   "metadata": {},
   "outputs": [
    {
     "name": "stdout",
     "output_type": "stream",
     "text": [
      "root\n",
      " |-- hvfhs_license_num: string (nullable = true)\n",
      " |-- dispatching_base_num: string (nullable = true)\n",
      " |-- originating_base_num: string (nullable = true)\n",
      " |-- request_datetime: timestamp (nullable = true)\n",
      " |-- on_scene_datetime: timestamp (nullable = true)\n",
      " |-- pickup_datetime: timestamp (nullable = true)\n",
      " |-- dropoff_datetime: timestamp (nullable = true)\n",
      " |-- PULocationID: long (nullable = true)\n",
      " |-- DOLocationID: long (nullable = true)\n",
      " |-- trip_miles: double (nullable = true)\n",
      " |-- trip_time: long (nullable = true)\n",
      " |-- base_passenger_fare: double (nullable = true)\n",
      " |-- tolls: double (nullable = true)\n",
      " |-- bcf: double (nullable = true)\n",
      " |-- sales_tax: double (nullable = true)\n",
      " |-- congestion_surcharge: double (nullable = true)\n",
      " |-- airport_fee: double (nullable = true)\n",
      " |-- tips: double (nullable = true)\n",
      " |-- driver_pay: double (nullable = true)\n",
      " |-- shared_request_flag: string (nullable = true)\n",
      " |-- shared_match_flag: string (nullable = true)\n",
      " |-- access_a_ride_flag: string (nullable = true)\n",
      " |-- wav_request_flag: string (nullable = true)\n",
      " |-- wav_match_flag: string (nullable = true)\n",
      "\n"
     ]
    }
   ],
   "source": [
    "df.printSchema()"
   ]
  },
  {
   "cell_type": "code",
   "execution_count": 32,
   "id": "c561e8ef-98cc-4d0f-8418-95019cab13cd",
   "metadata": {},
   "outputs": [],
   "source": [
    "from pyspark.sql import functions as F\n",
    "from pyspark.sql import types"
   ]
  },
  {
   "cell_type": "code",
   "execution_count": null,
   "id": "12a9e26e-b1b1-4abb-b37a-573ef38414e8",
   "metadata": {},
   "outputs": [],
   "source": [
    "def crazy_stuff(base_num):\n",
    "    num = int(base_num[1:])\n",
    "    if num % 7 == 0:\n",
    "        return f's/{num:03x}'\n",
    "    else:\n",
    "        return f'e/{num:03x}'"
   ]
  },
  {
   "cell_type": "code",
   "execution_count": null,
   "id": "9db0d2ee-4c00-47b0-972d-f5ae6a981d52",
   "metadata": {},
   "outputs": [],
   "source": [
    "crazy_stuff('B02884')"
   ]
  },
  {
   "cell_type": "code",
   "execution_count": 33,
   "id": "f84e90b4-0670-495f-a727-0978c2ae77d5",
   "metadata": {},
   "outputs": [],
   "source": [
    "crazy_stuff_udf = F.udf(crazy_stuff, returnType=types.StringType())"
   ]
  },
  {
   "cell_type": "code",
   "execution_count": 34,
   "id": "2bef6c0a-a0ca-4049-a113-ee3ad3b38641",
   "metadata": {},
   "outputs": [
    {
     "name": "stdout",
     "output_type": "stream",
     "text": [
      "+-------+-----------+------------+------------+------------+\n",
      "|base_id|pickup_date|dropoff_date|PULocationID|DOLocationID|\n",
      "+-------+-----------+------------+------------+------------+\n",
      "|  e/acc| 2021-01-11|  2021-01-11|         262|         231|\n",
      "|  e/a39| 2021-01-05|  2021-01-05|          61|         181|\n",
      "|  e/9ce| 2021-01-02|  2021-01-02|         100|           1|\n",
      "|  e/b42| 2021-01-31|  2021-01-31|         232|           4|\n",
      "|  s/af0| 2021-01-05|  2021-01-05|         162|           1|\n",
      "|  e/b43| 2021-01-27|  2021-01-27|          68|          68|\n",
      "|  e/9ce| 2021-01-18|  2021-01-18|         205|         205|\n",
      "|  e/b35| 2021-01-30|  2021-01-30|         256|         255|\n",
      "|  e/b3b| 2021-01-16|  2021-01-16|          89|          91|\n",
      "|  e/9ce| 2021-01-05|  2021-01-05|         132|         102|\n",
      "|  e/acc| 2021-01-11|  2021-01-11|          97|          61|\n",
      "|  e/9ce| 2021-01-22|  2021-01-22|          79|          37|\n",
      "|  e/b32| 2021-01-03|  2021-01-03|          26|         178|\n",
      "|  e/b49| 2021-01-14|  2021-01-14|         181|         198|\n",
      "|  e/acc| 2021-01-08|  2021-01-08|          76|          91|\n",
      "|  e/b3c| 2021-01-15|  2021-01-15|         246|          16|\n",
      "|  s/b36| 2021-01-27|  2021-01-27|         135|          73|\n",
      "|  e/9ce| 2021-01-18|  2021-01-18|          74|         234|\n",
      "|  e/a39| 2021-01-11|  2021-01-11|          68|         211|\n",
      "|  e/b3f| 2021-01-24|  2021-01-24|         249|         236|\n",
      "+-------+-----------+------------+------------+------------+\n",
      "only showing top 20 rows\n",
      "\n"
     ]
    }
   ],
   "source": [
    "df \\\n",
    "    .withColumn('pickup_date', F.to_date(df.pickup_datetime)) \\\n",
    "    .withColumn('dropoff_date', F.to_date(df.dropoff_datetime)) \\\n",
    "    .withColumn('base_id', crazy_stuff_udf(df.dispatching_base_num)) \\\n",
    "    .select('base_id', 'pickup_date', 'dropoff_date', 'PULocationID', 'DOLocationID') \\\n",
    "    .show()\n"
   ]
  },
  {
   "cell_type": "code",
   "execution_count": null,
   "id": "47ff79ea-7af3-4b4c-8098-c07ad3576fd9",
   "metadata": {},
   "outputs": [],
   "source": [
    "df.select('pickup_datetime', 'dropoff_datetime', 'PULocationID', 'DOLocationID').filter(df.hvfhs_license_num == \"HV0003\").show()"
   ]
  },
  {
   "cell_type": "code",
   "execution_count": 11,
   "id": "a66b8e70-5e7c-465b-8b53-09d3e49d99c2",
   "metadata": {},
   "outputs": [
    {
     "name": "stdout",
     "output_type": "stream",
     "text": [
      "+-----------------+--------------------+--------------------+-------------------+-------------------+-------------------+-------------------+------------+------------+----------+---------+-------------------+-----+----+---------+--------------------+-----------+----+----------+-------------------+-----------------+------------------+----------------+--------------+\n",
      "|hvfhs_license_num|dispatching_base_num|originating_base_num|   request_datetime|  on_scene_datetime|    pickup_datetime|   dropoff_datetime|PULocationID|DOLocationID|trip_miles|trip_time|base_passenger_fare|tolls| bcf|sales_tax|congestion_surcharge|airport_fee|tips|driver_pay|shared_request_flag|shared_match_flag|access_a_ride_flag|wav_request_flag|wav_match_flag|\n",
      "+-----------------+--------------------+--------------------+-------------------+-------------------+-------------------+-------------------+------------+------------+----------+---------+-------------------+-----+----+---------+--------------------+-----------+----+----------+-------------------+-----------------+------------------+----------------+--------------+\n",
      "|           HV0003|              B02764|              B02764|2021-01-11 19:38:35|2021-01-11 19:39:39|2021-01-11 19:40:22|2021-01-11 20:15:49|         262|         231|      9.61|     2127|              34.54|  0.0|1.04|     3.07|                2.75|       null|8.41|      28.4|                  N|                N|                  |               N|             N|\n",
      "|           HV0003|              B02617|              B02617|2021-01-05 16:09:21|2021-01-05 16:12:56|2021-01-05 16:13:22|2021-01-05 16:27:50|          61|         181|      2.86|      868|              14.73|  0.0|0.44|     1.31|                 0.0|       null| 0.0|     10.42|                  N|                N|                  |               N|             N|\n",
      "|           HV0005|              B02510|                null|2021-01-02 15:24:29|               null|2021-01-02 15:29:43|2021-01-02 15:57:51|         100|           1|    16.899|     1688|              80.04|21.99|3.06|      0.0|                 0.0|       null| 0.0|      41.3|                  N|                N|                 N|               N|             N|\n",
      "|           HV0003|              B02882|              B02882|2021-01-31 19:24:39|2021-01-31 19:40:09|2021-01-31 19:42:09|2021-01-31 19:59:52|         232|           4|      1.51|     1063|              10.61|  0.0|0.33|     0.99|                2.75|       null| 0.0|     10.68|                  N|                N|                  |               N|             N|\n",
      "|           HV0004|              B02800|                null|2021-01-05 20:28:05|               null|2021-01-05 20:33:01|2021-01-05 21:05:08|         162|           1|     16.21|     1926|              66.95|  0.0| 0.0|      0.0|                 0.0|       null| 0.0|     35.04|                  N|                N|                 N|               N|             N|\n",
      "|           HV0003|              B02883|              B02883|2021-01-27 23:19:18|2021-01-27 23:23:20|2021-01-27 23:24:36|2021-01-27 23:26:43|          68|          68|       0.2|      127|              10.38|  0.0|0.31|     0.92|                2.75|       null| 0.0|       6.8|                  N|                N|                  |               N|             N|\n",
      "|           HV0005|              B02510|                null|2021-01-18 01:39:02|               null|2021-01-18 01:52:32|2021-01-18 02:00:12|         205|         205|     1.448|      460|               6.87|  0.0|0.21|     0.61|                 0.0|       null| 0.0|      5.47|                  N|                N|                 N|               N|             N|\n",
      "|           HV0003|              B02869|              B02869|2021-01-30 09:31:55|2021-01-30 09:35:45|2021-01-30 09:35:46|2021-01-30 09:39:42|         256|         255|      0.58|      236|               7.91|  0.0|0.24|      0.7|                 0.0|       null| 0.0|      5.39|                  N|                N|                  |               N|             N|\n",
      "|           HV0003|              B02875|              B02875|2021-01-16 03:23:46|2021-01-16 03:24:46|2021-01-16 03:25:35|2021-01-16 03:34:21|          89|          91|      2.05|      526|                9.9|  0.0| 0.3|     0.88|                 0.0|       null| 0.0|      8.62|                  N|                N|                  |               N|             Y|\n",
      "|           HV0005|              B02510|                null|2021-01-05 03:11:17|               null|2021-01-05 03:17:29|2021-01-05 03:36:56|         132|         102|    10.505|     1167|              35.75|  0.0|1.07|     3.17|                 0.0|       null| 0.0|     21.43|                  N|                N|                 N|               N|             N|\n",
      "|           HV0003|              B02764|              B02764|2021-01-11 12:55:20|2021-01-11 12:57:46|2021-01-11 12:58:23|2021-01-11 13:14:19|          97|          61|      2.76|      956|              12.36|  0.0|0.37|      1.1|                 0.0|       null| 0.0|     11.05|                  N|                N|                  |               N|             N|\n",
      "|           HV0005|              B02510|                null|2021-01-22 04:36:25|               null|2021-01-22 04:41:19|2021-01-22 05:08:12|          79|          37|     6.585|     1613|              27.02| 1.01|0.84|     2.49|                2.75|       null| 2.0|     20.82|                  N|                N|                 N|               N|             N|\n",
      "|           HV0003|              B02866|              B02866|2021-01-03 08:42:21|2021-01-03 08:44:25|2021-01-03 08:44:58|2021-01-03 09:04:45|          26|         178|      3.06|     1187|              14.29|  0.0|0.43|     1.27|                 0.0|       null| 0.0|     13.76|                  N|                N|                  |               N|             N|\n",
      "|           HV0003|              B02889|              B02889|2021-01-14 19:48:33|2021-01-14 19:51:43|2021-01-14 19:52:00|2021-01-14 20:19:00|         181|         198|       5.1|     1620|              29.73|  0.0|0.89|     2.64|                 0.0|       null| 0.0|     21.31|                  N|                N|                  |               N|             N|\n",
      "|           HV0003|              B02764|              B02764|2021-01-08 21:31:03|2021-01-08 21:34:44|2021-01-08 21:35:35|2021-01-08 22:06:33|          76|          91|      6.26|     1858|              28.21|  0.0|0.85|      2.5|                 0.0|       null| 0.0|     22.46|                  N|                N|                  |               N|             N|\n",
      "|           HV0003|              B02876|              B02876|2021-01-15 14:44:47|2021-01-15 14:48:39|2021-01-15 14:49:48|2021-01-15 15:35:23|         246|          16|     15.67|     2735|              46.12| 6.12|1.57|     4.64|                2.75|       null| 0.0|     40.17|                  N|                N|                  |               N|             N|\n",
      "|           HV0003|              B02870|              B02870|2021-01-27 11:35:19|2021-01-27 11:37:28|2021-01-27 11:37:56|2021-01-27 11:53:35|         135|          73|      4.64|      939|              12.01|  0.0|0.36|     1.07|                 0.0|       null| 0.0|     12.98|                  N|                N|                  |               N|             N|\n",
      "|           HV0005|              B02510|                null|2021-01-18 12:40:34|               null|2021-01-18 12:43:30|2021-01-18 12:59:19|          74|         234|     6.122|      949|              22.22|  0.0|0.67|     1.97|                2.75|       null| 0.0|     14.74|                  N|                N|                 N|               N|             N|\n",
      "|           HV0003|              B02617|              B02617|2021-01-11 18:27:35|2021-01-11 18:29:33|2021-01-11 18:29:44|2021-01-11 18:42:49|          68|         211|      2.94|      785|              13.75|  0.0|0.41|     1.22|                2.75|       null| 0.0|      9.81|                  N|                N|                  |               N|             N|\n",
      "|           HV0003|              B02879|              B02879|2021-01-24 22:23:45|2021-01-24 22:31:41|2021-01-24 22:32:15|2021-01-24 22:52:42|         249|         236|      4.66|     1227|              17.38|  0.0|0.52|     1.54|                2.75|       null| 0.0|     15.41|                  N|                N|                  |               N|             N|\n",
      "+-----------------+--------------------+--------------------+-------------------+-------------------+-------------------+-------------------+------------+------------+----------+---------+-------------------+-----+----+---------+--------------------+-----------+----+----------+-------------------+-----------------+------------------+----------------+--------------+\n",
      "only showing top 20 rows\n",
      "\n"
     ]
    }
   ],
   "source": [
    "df.show()"
   ]
  }
 ],
 "metadata": {
  "kernelspec": {
   "display_name": "Python 3 (ipykernel)",
   "language": "python",
   "name": "python3"
  },
  "language_info": {
   "codemirror_mode": {
    "name": "ipython",
    "version": 3
   },
   "file_extension": ".py",
   "mimetype": "text/x-python",
   "name": "python",
   "nbconvert_exporter": "python",
   "pygments_lexer": "ipython3",
   "version": "3.10.12"
  }
 },
 "nbformat": 4,
 "nbformat_minor": 5
}
