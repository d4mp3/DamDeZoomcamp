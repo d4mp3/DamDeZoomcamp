{
 "cells": [
  {
   "cell_type": "code",
   "execution_count": 3,
   "id": "ceb91ec5-e0c9-42b8-912a-2f48ce546fc4",
   "metadata": {},
   "outputs": [],
   "source": [
    "import pyspark\n",
    "from pyspark.sql import SparkSession\n",
    "\n",
    "spark = SparkSession.builder \\\n",
    "    .master(\"local[*]\") \\\n",
    "    .appName('test') \\\n",
    "    .getOrCreate()\n"
   ]
  },
  {
   "cell_type": "code",
   "execution_count": 4,
   "id": "410ac007-32d9-4977-b935-6189016674cb",
   "metadata": {},
   "outputs": [],
   "source": [
    "df_green = spark.read.parquet('data/pq/green/*/*')"
   ]
  },
  {
   "cell_type": "code",
   "execution_count": null,
   "id": "f2b0ef42-8e0d-4ed0-aed8-4423d91e86f2",
   "metadata": {},
   "outputs": [],
   "source": [
    "# SELECT \n",
    "#     date_trunc('hour', lpep_pickup_datetime) AS hour, \n",
    "#     PULocationID AS zone,\n",
    "\n",
    "#     SUM(total_amount) AS amount,\n",
    "#     COUNT(1) AS number_records\n",
    "# FROM\n",
    "#     green\n",
    "# WHERE\n",
    "#     lpep_pickup_datetime >= '2020-01-01 00:00:00'\n",
    "# GROUP BY\n",
    "#     1, 2"
   ]
  },
  {
   "cell_type": "code",
   "execution_count": 5,
   "id": "fb23b25e-83d8-4785-8fb6-ae7c93bff889",
   "metadata": {},
   "outputs": [],
   "source": [
    "rdd = df_green \\\n",
    "    .select('lpep_pickup_datetime', 'PULocationID', 'total_amount') \\\n",
    "    .rdd\n"
   ]
  },
  {
   "cell_type": "code",
   "execution_count": 6,
   "id": "1ccfe9d3-dc92-4802-8389-3170a4899cf0",
   "metadata": {},
   "outputs": [
    {
     "name": "stderr",
     "output_type": "stream",
     "text": [
      "                                                                                \r"
     ]
    },
    {
     "data": {
      "text/plain": [
       "[Row(lpep_pickup_datetime=datetime.datetime(2020, 1, 12, 18, 15, 4), PULocationID=41, total_amount=7.88),\n",
       " Row(lpep_pickup_datetime=datetime.datetime(2020, 1, 31, 20, 24, 10), PULocationID=173, total_amount=8.3),\n",
       " Row(lpep_pickup_datetime=datetime.datetime(2020, 1, 7, 8, 16, 53), PULocationID=74, total_amount=23.46),\n",
       " Row(lpep_pickup_datetime=datetime.datetime(2020, 1, 15, 14, 47, 15), PULocationID=25, total_amount=7.3),\n",
       " Row(lpep_pickup_datetime=datetime.datetime(2020, 1, 31, 10, 8), PULocationID=259, total_amount=25.54)]"
      ]
     },
     "execution_count": 6,
     "metadata": {},
     "output_type": "execute_result"
    }
   ],
   "source": [
    "rdd.take(5)"
   ]
  },
  {
   "cell_type": "code",
   "execution_count": 7,
   "id": "99f0aaa7-f401-4409-a8a1-dcba3bb92be7",
   "metadata": {},
   "outputs": [],
   "source": [
    "from datetime import datetime"
   ]
  },
  {
   "cell_type": "code",
   "execution_count": 8,
   "id": "a2a5372f-817d-4de6-8bbb-7449d50d60d6",
   "metadata": {},
   "outputs": [],
   "source": [
    "start = datetime(year=2021, month=1, day=1)\n",
    "\n",
    "def filter_outliers(row):\n",
    "    return row.lpep_pickup_datetime >= start"
   ]
  },
  {
   "cell_type": "code",
   "execution_count": 9,
   "id": "11edb350-ade7-4e41-ae7b-17951fafaef7",
   "metadata": {},
   "outputs": [],
   "source": [
    "rows = rdd.take(10)\n",
    "row = rows[0]"
   ]
  },
  {
   "cell_type": "code",
   "execution_count": 10,
   "id": "21ad3709-de94-4e58-88f3-44ecbe4846db",
   "metadata": {},
   "outputs": [
    {
     "data": {
      "text/plain": [
       "Row(lpep_pickup_datetime=datetime.datetime(2020, 1, 12, 18, 15, 4), PULocationID=41, total_amount=7.88)"
      ]
     },
     "execution_count": 10,
     "metadata": {},
     "output_type": "execute_result"
    }
   ],
   "source": [
    "row"
   ]
  },
  {
   "cell_type": "code",
   "execution_count": 11,
   "id": "bdc348d9-52af-4ddb-bdd2-b113cfb72f08",
   "metadata": {},
   "outputs": [],
   "source": [
    "def prepare_for_grouping(row): \n",
    "    hour = row.lpep_pickup_datetime.replace(minute=0, second=0, microsecond=0)\n",
    "    zone = row.PULocationID\n",
    "    key = (hour, zone)\n",
    "    \n",
    "    amount = row.total_amount\n",
    "    count = 1\n",
    "    value = (amount, count)\n",
    "\n",
    "    return (key, value)"
   ]
  },
  {
   "cell_type": "code",
   "execution_count": 12,
   "id": "aed225cc-5d9c-43d0-bb84-46376947a77d",
   "metadata": {},
   "outputs": [],
   "source": [
    "def calculate_revenue(left_value, right_value):\n",
    "    left_amount, left_count = left_value\n",
    "    right_amount, right_count = right_value\n",
    "    \n",
    "    output_amount = left_amount + right_amount\n",
    "    output_count = left_count + right_count\n",
    "    \n",
    "    return (output_amount, output_count)"
   ]
  },
  {
   "cell_type": "code",
   "execution_count": 13,
   "id": "a851dd58-7bed-49b6-8758-0d6d311813c6",
   "metadata": {},
   "outputs": [
    {
     "name": "stderr",
     "output_type": "stream",
     "text": [
      "                                                                                \r"
     ]
    },
    {
     "data": {
      "text/plain": [
       "[((datetime.datetime(2021, 6, 1, 17, 0), 153), (17.3, 1)),\n",
       " ((datetime.datetime(2021, 6, 30, 20, 0), 67), (7.3, 1)),\n",
       " ((datetime.datetime(2021, 6, 25, 8, 0), 244), (177.14000000000001, 6)),\n",
       " ((datetime.datetime(2021, 6, 10, 8, 0), 74), (546.1800000000001, 34)),\n",
       " ((datetime.datetime(2021, 6, 21, 17, 0), 216), (170.33999999999997, 3)),\n",
       " ((datetime.datetime(2021, 6, 15, 15, 0), 75), (572.4399999999999, 34)),\n",
       " ((datetime.datetime(2021, 6, 2, 10, 0), 14), (21.73, 1)),\n",
       " ((datetime.datetime(2021, 6, 8, 14, 0), 72), (57.68, 2)),\n",
       " ((datetime.datetime(2021, 6, 30, 19, 0), 86), (51.3, 1)),\n",
       " ((datetime.datetime(2021, 6, 27, 13, 0), 95), (92.8, 4))]"
      ]
     },
     "execution_count": 13,
     "metadata": {},
     "output_type": "execute_result"
    }
   ],
   "source": [
    "rdd \\\n",
    "    .filter(filter_outliers) \\\n",
    "    .map(prepare_for_grouping) \\\n",
    "    .reduceByKey(calculate_revenue) \\\n",
    "    .take(10)\n"
   ]
  },
  {
   "cell_type": "code",
   "execution_count": 14,
   "id": "e721777f-635b-4faf-8ea0-acf1396bdf94",
   "metadata": {},
   "outputs": [],
   "source": [
    "from collections import namedtuple"
   ]
  },
  {
   "cell_type": "code",
   "execution_count": 15,
   "id": "15795c94-49fa-4b97-97a1-ac4e3d509fdc",
   "metadata": {},
   "outputs": [],
   "source": [
    "RevenueRow = namedtuple('RevenueRow', ['hour', 'zone', 'revenue', 'count'])"
   ]
  },
  {
   "cell_type": "code",
   "execution_count": 16,
   "id": "ff37979d-9661-4e5c-93a2-30365f48599d",
   "metadata": {},
   "outputs": [],
   "source": [
    "def unwrap(row):\n",
    "    return RevenueRow(\n",
    "        hour=row[0][0], \n",
    "        zone=row[0][1],\n",
    "        revenue=row[1][0],\n",
    "        count=row[1][1]\n",
    "    )\n"
   ]
  },
  {
   "cell_type": "code",
   "execution_count": 17,
   "id": "23e914ae-cedb-4cd0-b5f2-bf4286296780",
   "metadata": {},
   "outputs": [],
   "source": [
    "from pyspark.sql import types"
   ]
  },
  {
   "cell_type": "code",
   "execution_count": 18,
   "id": "87b2f037-2a40-463d-9401-082a5bd78469",
   "metadata": {},
   "outputs": [],
   "source": [
    "result_schema = types.StructType([\n",
    "    types.StructField('hour', types.TimestampType(), True),\n",
    "    types.StructField('zone', types.IntegerType(), True),\n",
    "    types.StructField('revenue', types.DoubleType(), True),\n",
    "    types.StructField('count', types.IntegerType(), True)\n",
    "])"
   ]
  },
  {
   "cell_type": "code",
   "execution_count": 19,
   "id": "231a09b4-e21a-4ded-a03e-ed7663f4ff86",
   "metadata": {},
   "outputs": [],
   "source": [
    "df_result = rdd \\\n",
    "    .filter(filter_outliers) \\\n",
    "    .map(prepare_for_grouping) \\\n",
    "    .reduceByKey(calculate_revenue) \\\n",
    "    .map(unwrap) \\\n",
    "    .toDF(result_schema) "
   ]
  },
  {
   "cell_type": "code",
   "execution_count": 20,
   "id": "ffd0e9d2-8844-436b-ae1d-a72241f683f3",
   "metadata": {
    "scrolled": true
   },
   "outputs": [
    {
     "name": "stderr",
     "output_type": "stream",
     "text": [
      "[Stage 6:===============================================>         (10 + 2) / 12]\r"
     ]
    },
    {
     "name": "stdout",
     "output_type": "stream",
     "text": [
      "+-------------------+----+------------------+-----+\n",
      "|               hour|zone|           revenue|count|\n",
      "+-------------------+----+------------------+-----+\n",
      "|2021-06-01 17:00:00| 153|              17.3|    1|\n",
      "|2021-06-30 20:00:00|  67|               7.3|    1|\n",
      "|2021-06-25 08:00:00| 244|177.14000000000001|    6|\n",
      "|2021-06-10 08:00:00|  74| 546.1800000000001|   34|\n",
      "|2021-06-21 17:00:00| 216|170.33999999999997|    3|\n",
      "|2021-06-15 15:00:00|  75| 572.4399999999999|   34|\n",
      "|2021-06-02 10:00:00|  14|             21.73|    1|\n",
      "|2021-06-08 14:00:00|  72|             57.68|    2|\n",
      "|2021-06-30 19:00:00|  86|              51.3|    1|\n",
      "|2021-06-27 13:00:00|  95|              92.8|    4|\n",
      "|2021-06-29 07:00:00| 205|143.67000000000002|    2|\n",
      "|2021-06-23 17:00:00|  75|428.81000000000006|   25|\n",
      "|2021-06-28 19:00:00|  41|114.17999999999998|   11|\n",
      "|2021-06-02 12:00:00|  41|            180.37|   13|\n",
      "|2021-06-04 15:00:00| 136|              29.0|    1|\n",
      "|2021-06-09 09:00:00|  75| 422.5800000000001|   28|\n",
      "|2021-06-02 13:00:00| 226|              64.3|    3|\n",
      "|2021-06-05 20:00:00|  74|161.01999999999998|   12|\n",
      "|2021-06-09 07:00:00| 170|             31.31|    1|\n",
      "|2021-06-13 07:00:00| 244|             92.85|    4|\n",
      "+-------------------+----+------------------+-----+\n",
      "only showing top 20 rows\n",
      "\n"
     ]
    },
    {
     "name": "stderr",
     "output_type": "stream",
     "text": [
      "                                                                                \r"
     ]
    }
   ],
   "source": [
    "df_result.show()"
   ]
  },
  {
   "cell_type": "code",
   "execution_count": null,
   "id": "0ae50cd1-ee93-436a-8200-6656fc0af60e",
   "metadata": {},
   "outputs": [],
   "source": [
    "df_result.write.parquet('tmp/green-revenue')"
   ]
  },
  {
   "cell_type": "code",
   "execution_count": null,
   "id": "aa849453-44ac-47f4-b29b-0bf7f750bf09",
   "metadata": {},
   "outputs": [],
   "source": [
    "df_green.show()"
   ]
  },
  {
   "cell_type": "code",
   "execution_count": 24,
   "id": "9415e989-87fe-4b5e-a11d-132be2e821a9",
   "metadata": {},
   "outputs": [],
   "source": [
    "columns = ['VendorID', 'lpep_pickup_datetime', 'PULocationID', 'DOLocationID', 'trip_distance']\n",
    "\n",
    "duration_rdd = df_green \\\n",
    "    .select(columns) \\\n",
    "    .rdd\n"
   ]
  },
  {
   "cell_type": "code",
   "execution_count": 27,
   "id": "77f161a8-5a0a-43a3-ada0-e8cf29ddead7",
   "metadata": {},
   "outputs": [],
   "source": [
    "import pandas as pd"
   ]
  },
  {
   "cell_type": "code",
   "execution_count": 28,
   "id": "906a46f9-1c08-4441-beeb-852108e9daf3",
   "metadata": {},
   "outputs": [],
   "source": [
    "rows = duration_rdd.take(10)"
   ]
  },
  {
   "cell_type": "code",
   "execution_count": 29,
   "id": "f6a9e580-f205-4ebc-bb8b-62afd4d8443b",
   "metadata": {},
   "outputs": [],
   "source": [
    "df = pd.DataFrame(rows, columns=columns)"
   ]
  },
  {
   "cell_type": "code",
   "execution_count": 30,
   "id": "740d637e-00cf-4849-93cb-111fce7413f8",
   "metadata": {},
   "outputs": [
    {
     "data": {
      "text/plain": [
       "['VendorID',\n",
       " 'lpep_pickup_datetime',\n",
       " 'PULocationID',\n",
       " 'DOLocationID',\n",
       " 'trip_distance']"
      ]
     },
     "execution_count": 30,
     "metadata": {},
     "output_type": "execute_result"
    }
   ],
   "source": [
    "columns"
   ]
  },
  {
   "cell_type": "code",
   "execution_count": null,
   "id": "2d0ae864-9760-4b95-bd7e-9e54dc581a32",
   "metadata": {},
   "outputs": [],
   "source": [
    "#model = ...\n",
    "\n",
    "def model_predict(df):\n",
    "#     y_pred = model.predict(df)\n",
    "    y_pred = df.trip_distance * 5\n",
    "    return y_pred"
   ]
  },
  {
   "cell_type": "code",
   "execution_count": 38,
   "id": "2242538b-a98a-4c8b-a362-83b22ae6d288",
   "metadata": {},
   "outputs": [],
   "source": [
    "def infinite_seq():\n",
    "    i = 0\n",
    "\n",
    "    while True:\n",
    "        yield i\n",
    "        i = i + 1\n",
    "\n",
    "        if i > 15:\n",
    "            break"
   ]
  },
  {
   "cell_type": "code",
   "execution_count": 41,
   "id": "1013fee2-d5ba-4777-bde5-8eed90a6ac9c",
   "metadata": {},
   "outputs": [],
   "source": [
    "seq = infinite_seq()"
   ]
  },
  {
   "cell_type": "code",
   "execution_count": 42,
   "id": "1ead2680-ecb2-40e9-af7e-12f01d73e97e",
   "metadata": {},
   "outputs": [
    {
     "name": "stdout",
     "output_type": "stream",
     "text": [
      "0\n",
      "1\n",
      "2\n",
      "3\n",
      "4\n",
      "5\n",
      "6\n",
      "7\n",
      "8\n",
      "9\n",
      "10\n"
     ]
    }
   ],
   "source": [
    "for i in seq:\n",
    "    print(i)\n",
    "    if i >= 10:\n",
    "        break"
   ]
  },
  {
   "cell_type": "code",
   "execution_count": 36,
   "id": "9668f063-01a9-4d3d-8095-9ae80409a1a9",
   "metadata": {},
   "outputs": [],
   "source": [
    "def apply_model_in_batch(rows):\n",
    "    df = pd.DataFrame(rows, columns=columns)\n",
    "    predictions = model_predict(df)\n",
    "    df['predicted_duration'] = predictions\n",
    "\n",
    "    for row in df.itertuples():\n",
    "        yield row"
   ]
  },
  {
   "cell_type": "code",
   "execution_count": 37,
   "id": "00f9c154-4ea6-4cbf-b891-3da7fc1a8157",
   "metadata": {},
   "outputs": [
    {
     "name": "stderr",
     "output_type": "stream",
     "text": [
      "                                                                                \r"
     ]
    }
   ],
   "source": [
    "df_predicts = duration_rdd \\\n",
    "    .mapPartitions(apply_model_in_batch)\\\n",
    "    .toDF() \\\n",
    "    .drop('Index')"
   ]
  },
  {
   "cell_type": "code",
   "execution_count": 35,
   "id": "1c44a342-3622-498b-90af-da66ce93f3a6",
   "metadata": {},
   "outputs": [
    {
     "name": "stderr",
     "output_type": "stream",
     "text": [
      "[Stage 13:>                                                         (0 + 1) / 1]\r"
     ]
    },
    {
     "name": "stdout",
     "output_type": "stream",
     "text": [
      "+------------------+\n",
      "|predicted_duration|\n",
      "+------------------+\n",
      "|3.9000000000000004|\n",
      "|               4.9|\n",
      "|              13.5|\n",
      "|               4.0|\n",
      "|             11.65|\n",
      "|13.100000000000001|\n",
      "|5.6499999999999995|\n",
      "| 6.800000000000001|\n",
      "|             55.75|\n",
      "|               8.9|\n",
      "|               5.0|\n",
      "|             13.75|\n",
      "|               5.5|\n",
      "|             19.05|\n",
      "|              9.25|\n",
      "|              45.7|\n",
      "|               5.2|\n",
      "| 5.699999999999999|\n",
      "|              5.75|\n",
      "|4.6000000000000005|\n",
      "+------------------+\n",
      "only showing top 20 rows\n",
      "\n"
     ]
    },
    {
     "name": "stderr",
     "output_type": "stream",
     "text": [
      "                                                                                \r"
     ]
    }
   ],
   "source": [
    "df_predicts.select('predicted_duration').show()"
   ]
  }
 ],
 "metadata": {
  "kernelspec": {
   "display_name": "Python 3 (ipykernel)",
   "language": "python",
   "name": "python3"
  },
  "language_info": {
   "codemirror_mode": {
    "name": "ipython",
    "version": 3
   },
   "file_extension": ".py",
   "mimetype": "text/x-python",
   "name": "python",
   "nbconvert_exporter": "python",
   "pygments_lexer": "ipython3",
   "version": "3.10.12"
  }
 },
 "nbformat": 4,
 "nbformat_minor": 5
}
